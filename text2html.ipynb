{
 "cells": [
  {
   "cell_type": "code",
   "execution_count": 1,
   "metadata": {},
   "outputs": [],
   "source": [
    "with open('page_template.html', 'r') as file:\n",
    "    template = file.read()"
   ]
  },
  {
   "cell_type": "code",
   "execution_count": 2,
   "metadata": {},
   "outputs": [
    {
     "data": {
      "text/plain": [
       "str"
      ]
     },
     "execution_count": 2,
     "metadata": {},
     "output_type": "execute_result"
    }
   ],
   "source": [
    "type(template)"
   ]
  },
  {
   "cell_type": "code",
   "execution_count": 3,
   "metadata": {},
   "outputs": [],
   "source": [
    "title = 'bob'\n",
    "body = 'bob body'"
   ]
  },
  {
   "cell_type": "code",
   "execution_count": 4,
   "metadata": {},
   "outputs": [
    {
     "data": {
      "text/plain": [
       "'\\n<!DOCTYPE html>\\n<html lang=\"en\">\\n<head>\\n\\n  <!-- Basic Page Needs\\n  –––––––––––––––––––––––––––––––––––––––––––––––––– -->\\n  <meta charset=\"utf-8\">\\n  <title>$pagetitle</title>\\n  <meta name=\"description\" content=\"Under 200 words\">\\n  <meta name=\"author\" content=\"Christian Hagel\">\\n\\n  <!-- Mobile Specific Metas\\n  –––––––––––––––––––––––––––––––––––––––––––––––––– -->\\n  <meta name=\"viewport\" content=\"width=device-width, initial-scale=1\">\\n\\n  <!-- FONT\\n  –––––––––––––––––––––––––––––––––––––––––––––––––– -->\\n  <link href=\\'//fonts.googleapis.com/css?family=Raleway:400,300,600\\' rel=\\'stylesheet\\' type=\\'text/css\\'>\\n\\n  <!-- CSS\\n  –––––––––––––––––––––––––––––––––––––––––––––––––– -->\\n  <!-- <link rel=\"stylesheet\" href=\"../../dist/css/normalize.css\"> -->\\n  <link rel=\"stylesheet\" href=\"https://cdnjs.cloudflare.com/ajax/libs/bulma/0.7.5/css/bulma.min.css\">\\n  <link rel=\"stylesheet\" href=\"css/custom.css\">\\n\\n  <!-- Scripts\\n  –––––––––––––––––––––––––––––––––––––––––––––––––– -->\\n  <!-- <script src=\"//ajax.googleapis.com/ajax/libs/jquery/2.1.1/jquery.min.js\"></script> -->\\n  <!-- <script src=\"js/navbar.js\"></script> -->\\n  <!-- Favicon\\n  –––––––––––––––––––––––––––––––––––––––––––––––––– -->\\n  <link rel=\"icon\" type=\"image/png\" href=\"\">\\n\\n</head>\\n<body>\\n\\n\\n  <!-- Primary Page Layout\\n  –––––––––––––––––––––––––––––––––––––––––––––––––– -->\\n  <section class=\"hero has-background-prototyping \">\\n    <div class=\"hero-body\">\\n      <div class=\"container \">\\n        <h1 class=\"title\">$title</h1>\\n      </div>\\n    </div>\\n  </section>\\n\\n  <!-- Overview -->\\n  <section class=\"section\">\\n      <div class=\"container\">\\n\\n          <div class=\"columns\">\\n              <div class=\"column\">\\n                  <p>$body</p> \\n              </div>\\n            </div>\\n      </div>\\n    </section>\\n\\n<!-- End Document\\n  –––––––––––––––––––––––––––––––––––––––––––––––––– -->\\n</body>\\n</html>'"
      ]
     },
     "execution_count": 4,
     "metadata": {},
     "output_type": "execute_result"
    }
   ],
   "source": [
    "template"
   ]
  },
  {
   "cell_type": "code",
   "execution_count": 5,
   "metadata": {},
   "outputs": [],
   "source": [
    "new = template.replace('$title', title)"
   ]
  },
  {
   "cell_type": "code",
   "execution_count": 6,
   "metadata": {},
   "outputs": [],
   "source": [
    "with open('raw_files/drink-core.txt', 'r') as file:\n",
    "    text = file.read().replace('\\n', '<br/>')"
   ]
  },
  {
   "cell_type": "code",
   "execution_count": 7,
   "metadata": {},
   "outputs": [],
   "source": [
    "new = new.replace('$body', text)"
   ]
  },
  {
   "cell_type": "code",
   "execution_count": 9,
   "metadata": {},
   "outputs": [],
   "source": [
    "f = open(\"publish_web/myfile.html\", \"w\")\n",
    "f.write(new)\n",
    "f.close()"
   ]
  },
  {
   "cell_type": "code",
   "execution_count": null,
   "metadata": {},
   "outputs": [],
   "source": [
    "# need to open all the files in a directory and process them\n",
    "# need to get the name fo the file for a html file name. \n",
    "# then need to do some metadata on each file and add it to the template\n",
    "# and of course to find a way to get it out of the file\n",
    "#should be title, body, date, categories. probably just a bunch of strings that are easy to split. \n",
    "# But want a descriptor so i'm not reliant on placement in an array if I want to change later. \n",
    "# Also need to generate category pages. "
   ]
  },
  {
   "cell_type": "code",
   "execution_count": 62,
   "metadata": {},
   "outputs": [
    {
     "name": "stdout",
     "output_type": "stream",
     "text": [
      "['scarf.txt', 'factfulness.txt', 'drink-core.txt', 'juice-ice.txt']\n"
     ]
    }
   ],
   "source": [
    "import os\n",
    "\n",
    "arr_files = [x for x in os.listdir('./raw_files/') if x.endswith(\".txt\")]\n",
    "print(arr_files)"
   ]
  },
  {
   "cell_type": "code",
   "execution_count": 80,
   "metadata": {},
   "outputs": [],
   "source": [
    "with open('page_template.html', 'r') as file:\n",
    "    template = file.read()"
   ]
  },
  {
   "cell_type": "code",
   "execution_count": 81,
   "metadata": {},
   "outputs": [
    {
     "name": "stdout",
     "output_type": "stream",
     "text": [
      "SCARF and Design Team Maturity\n",
      "Factfulness\n",
      "What makes a drink?\n",
      "Drinks that develop\n"
     ]
    }
   ],
   "source": [
    "for file_name in arr_files:\n",
    "    with open('raw_files/' + file_name, 'r') as file:\n",
    "        (text, meta) = file.read().split('@@@')\n",
    "\n",
    "    text = text.replace('\\n', '<br/>')\n",
    "\n",
    "    meta = meta.split('\\n')\n",
    "    \n",
    "    title = \"\"\n",
    "    date = \"\"\n",
    "    categories = \"\"\n",
    "#     categories = []\n",
    "    \n",
    "    for line in meta:\n",
    "        if len(line) > 0:\n",
    "            (key, value) = line.split(':')\n",
    "            if key.lower() == 'title':\n",
    "                title = value\n",
    "            if key.lower() == 'date':\n",
    "                date = value\n",
    "            if key.lower() == 'categories':\n",
    "                categories = value\n",
    "                categories = value.split(',')\n",
    "    \n",
    "    new_html = template.replace('$title', title)\n",
    "    new_html = new_html.replace('$date', date)\n",
    "    new_html = new_html.replace('$body', text)\n",
    "    \n",
    "    html_file_name = file_name.replace('.txt', '.html')\n",
    "    \n",
    "    f = open(\"publish_web/\" + html_file_name, \"w\")\n",
    "    f.write(new_html)\n",
    "    f.close()\n",
    "    \n",
    "        \n",
    "    print(title)"
   ]
  },
  {
   "cell_type": "code",
   "execution_count": null,
   "metadata": {},
   "outputs": [],
   "source": []
  },
  {
   "cell_type": "code",
   "execution_count": null,
   "metadata": {},
   "outputs": [],
   "source": []
  }
 ],
 "metadata": {
  "kernelspec": {
   "display_name": "Python 3",
   "language": "python",
   "name": "python3"
  },
  "language_info": {
   "codemirror_mode": {
    "name": "ipython",
    "version": 3
   },
   "file_extension": ".py",
   "mimetype": "text/x-python",
   "name": "python",
   "nbconvert_exporter": "python",
   "pygments_lexer": "ipython3",
   "version": "3.6.4"
  }
 },
 "nbformat": 4,
 "nbformat_minor": 2
}
